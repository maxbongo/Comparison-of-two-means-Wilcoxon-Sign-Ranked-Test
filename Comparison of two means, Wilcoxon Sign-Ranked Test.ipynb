{
 "cells": [
  {
   "cell_type": "markdown",
   "id": "f1ac16f3",
   "metadata": {},
   "source": [
    "<h2>\n",
    "    Blood pressure\n",
    "</h2>\n",
    "\n",
    "<h3>\n",
    "    Description: \n",
    "</h3>\n",
    "<p>\n",
    "The data set Diet.csv contains information on 120 people. The dataset contain blood pressure before and after an intervention.\n",
    "</p>\n",
    "<h3>Format: </h3><p> A data frame with 5 variables:</p>\n",
    "\n",
    "<ul>\n",
    "  <li>Patient - # patient</li>\n",
    "  <li>Sex - sex</li>\n",
    "  <li>Agegrp - age group</li>\n",
    "  <li>Bp_before - blood pressure before an intervention</li>\n",
    "  <li>Bp_after - blood pressure after an intervention</li>\n",
    "</ul>"
   ]
  },
  {
   "cell_type": "markdown",
   "id": "99c9ef08",
   "metadata": {},
   "source": [
    "<p><b>\n",
    "H0: No difference between mean blood pressure in test and control group<br>\n",
    "H1: There is a difference between the mean blood pressure in the test group and the control group\n",
    "</b></p>"
   ]
  },
  {
   "cell_type": "code",
   "execution_count": 1,
   "id": "e833e741",
   "metadata": {},
   "outputs": [],
   "source": [
    "import numpy as np\n",
    "import pandas as pd\n",
    "import scipy.stats as stats\n",
    "import seaborn as sns\n",
    "import matplotlib.pyplot as plt"
   ]
  },
  {
   "cell_type": "code",
   "execution_count": 2,
   "id": "395c8890",
   "metadata": {},
   "outputs": [],
   "source": [
    "df = pd.read_csv('C:/Users/Максим/Desktop/Statistics/blood_pressure.csv')"
   ]
  },
  {
   "cell_type": "code",
   "execution_count": 3,
   "id": "3c037183",
   "metadata": {},
   "outputs": [
    {
     "data": {
      "text/html": [
       "<div>\n",
       "<style scoped>\n",
       "    .dataframe tbody tr th:only-of-type {\n",
       "        vertical-align: middle;\n",
       "    }\n",
       "\n",
       "    .dataframe tbody tr th {\n",
       "        vertical-align: top;\n",
       "    }\n",
       "\n",
       "    .dataframe thead th {\n",
       "        text-align: right;\n",
       "    }\n",
       "</style>\n",
       "<table border=\"1\" class=\"dataframe\">\n",
       "  <thead>\n",
       "    <tr style=\"text-align: right;\">\n",
       "      <th></th>\n",
       "      <th>patient</th>\n",
       "      <th>sex</th>\n",
       "      <th>agegrp</th>\n",
       "      <th>bp_before</th>\n",
       "      <th>bp_after</th>\n",
       "    </tr>\n",
       "  </thead>\n",
       "  <tbody>\n",
       "    <tr>\n",
       "      <th>0</th>\n",
       "      <td>1</td>\n",
       "      <td>Male</td>\n",
       "      <td>30-45</td>\n",
       "      <td>143</td>\n",
       "      <td>153</td>\n",
       "    </tr>\n",
       "    <tr>\n",
       "      <th>1</th>\n",
       "      <td>2</td>\n",
       "      <td>Male</td>\n",
       "      <td>30-45</td>\n",
       "      <td>163</td>\n",
       "      <td>170</td>\n",
       "    </tr>\n",
       "    <tr>\n",
       "      <th>2</th>\n",
       "      <td>3</td>\n",
       "      <td>Male</td>\n",
       "      <td>30-45</td>\n",
       "      <td>153</td>\n",
       "      <td>168</td>\n",
       "    </tr>\n",
       "    <tr>\n",
       "      <th>3</th>\n",
       "      <td>4</td>\n",
       "      <td>Male</td>\n",
       "      <td>30-45</td>\n",
       "      <td>153</td>\n",
       "      <td>142</td>\n",
       "    </tr>\n",
       "    <tr>\n",
       "      <th>4</th>\n",
       "      <td>5</td>\n",
       "      <td>Male</td>\n",
       "      <td>30-45</td>\n",
       "      <td>146</td>\n",
       "      <td>141</td>\n",
       "    </tr>\n",
       "  </tbody>\n",
       "</table>\n",
       "</div>"
      ],
      "text/plain": [
       "   patient   sex agegrp  bp_before  bp_after\n",
       "0        1  Male  30-45        143       153\n",
       "1        2  Male  30-45        163       170\n",
       "2        3  Male  30-45        153       168\n",
       "3        4  Male  30-45        153       142\n",
       "4        5  Male  30-45        146       141"
      ]
     },
     "execution_count": 3,
     "metadata": {},
     "output_type": "execute_result"
    }
   ],
   "source": [
    "df.head()"
   ]
  },
  {
   "cell_type": "code",
   "execution_count": 4,
   "id": "d20c8f26",
   "metadata": {},
   "outputs": [
    {
     "data": {
      "text/plain": [
       "patient      0\n",
       "sex          0\n",
       "agegrp       0\n",
       "bp_before    0\n",
       "bp_after     0\n",
       "dtype: int64"
      ]
     },
     "execution_count": 4,
     "metadata": {},
     "output_type": "execute_result"
    }
   ],
   "source": [
    "df.isnull().sum()"
   ]
  },
  {
   "cell_type": "markdown",
   "id": "80e1d255",
   "metadata": {},
   "source": [
    "<h3>\n",
    "    Requirements for Student's T-Test: \n",
    "</h3>\n",
    "\n",
    "<ul>\n",
    "  <li>The variances within our groups should be approximately the same (requirement for homogeneity of variances)</li>\n",
    "  <li>Normality of the data of both groups.</li>\n",
    "</ul>\n",
    "\n"
   ]
  },
  {
   "cell_type": "code",
   "execution_count": 5,
   "id": "1cbec44d",
   "metadata": {},
   "outputs": [
    {
     "name": "stdout",
     "output_type": "stream",
     "text": [
      "Mean blood pressure before an intervention - 156.45 \n",
      "Mean blood pressure after an intervention -  151.36\n"
     ]
    }
   ],
   "source": [
    "print(f\"Mean blood pressure before an intervention - {df['bp_before'].mean()} \\nMean blood pressure after an intervention -  {np.round(df['bp_after'].mean(),2)}\")"
   ]
  },
  {
   "cell_type": "code",
   "execution_count": 6,
   "id": "c00e5311",
   "metadata": {},
   "outputs": [
    {
     "data": {
      "image/png": "[encoded data removed]",
      "text/plain": [
       "<Figure size 1080x360 with 2 Axes>"
      ]
     },
     "metadata": {
      "needs_background": "light"
     },
     "output_type": "display_data"
    }
   ],
   "source": [
    "fig, (ax1, ax2) = plt.subplots(1, 2, figsize=(15, 5))\n",
    "\n",
    "x = df['bp_before']\n",
    "res = stats.probplot(x, dist=stats.loggamma, sparams=(2.5,), plot=ax1)\n",
    "ax1.set_title('QQplot blood pressure before an intervention')\n",
    "\n",
    "x = df['bp_after']\n",
    "res = stats.probplot(x, dist=stats.loggamma, sparams=(2.5,), plot=ax2)\n",
    "ax2.set_title('QQplot blood pressure after an interventionr')\n",
    "\n",
    "plt.show()"
   ]
  },
  {
   "cell_type": "code",
   "execution_count": 7,
   "id": "a1243213",
   "metadata": {},
   "outputs": [
    {
     "data": {
      "image/png": "[encoded data removed]",
      "text/plain": [
       "<Figure size 1080x360 with 2 Axes>"
      ]
     },
     "metadata": {
      "needs_background": "light"
     },
     "output_type": "display_data"
    }
   ],
   "source": [
    "fig, axes = plt.subplots(1, 2, figsize=(15, 5))\n",
    "x1 = sns.histplot(data=df, x=df['bp_before'], kde=True, ax=axes[0])\n",
    "x1.set_title('Distribution of blood pressure before an intervention')\n",
    "x2 = sns.histplot(data=df, x=df['bp_after'], kde=True, ax=axes[1])\n",
    "x2.set_title('Distribution of blood pressure after an intervention')\n",
    "plt.show()"
   ]
  },
  {
   "cell_type": "code",
   "execution_count": 8,
   "id": "6c141a90",
   "metadata": {},
   "outputs": [
    {
     "data": {
      "text/plain": [
       "ShapiroResult(statistic=0.9547787308692932, pvalue=0.0004928423441015184)"
      ]
     },
     "execution_count": 8,
     "metadata": {},
     "output_type": "execute_result"
    }
   ],
   "source": [
    "stats.shapiro(df['bp_before'])"
   ]
  },
  {
   "cell_type": "code",
   "execution_count": 9,
   "id": "14ec3d8a",
   "metadata": {},
   "outputs": [
    {
     "data": {
      "text/plain": [
       "ShapiroResult(statistic=0.9740639328956604, pvalue=0.020227791741490364)"
      ]
     },
     "execution_count": 9,
     "metadata": {},
     "output_type": "execute_result"
    }
   ],
   "source": [
    "stats.shapiro(df['bp_after'])"
   ]
  },
  {
   "cell_type": "markdown",
   "id": "57900c1a",
   "metadata": {},
   "source": [
    "<p><b>The distribution of bp_before and bp_after is not normal, p-value<0.05</b></p>"
   ]
  },
  {
   "cell_type": "markdown",
   "id": "493f5356",
   "metadata": {},
   "source": [
    "<h3>\n",
    "    Let's check the homogeneity of groups using Levene's test \n",
    "</h3>\n",
    "<p>Let's formulate a hypothesis:</p>\n",
    "<ul>\n",
    "  <li>H0 p-value > 0.05, variances within groups are homogeneous, do not reject the H0 hypothesis</li>\n",
    "  <li>H1 p-value < 0.05, variances within groups are not homogeneous, reject the H0 hypothesis</li>\n",
    "</ul>"
   ]
  },
  {
   "cell_type": "code",
   "execution_count": 10,
   "id": "3633b9bd",
   "metadata": {},
   "outputs": [
    {
     "data": {
      "text/plain": [
       "LeveneResult(statistic=4.863729003161597, pvalue=0.028383666362347747)"
      ]
     },
     "execution_count": 10,
     "metadata": {},
     "output_type": "execute_result"
    }
   ],
   "source": [
    "stats.levene(df['bp_before'], df['bp_after'])"
   ]
  },
  {
   "cell_type": "markdown",
   "id": "6b42a1e4",
   "metadata": {},
   "source": [
    "<p><b>p-value > 0.05, do not reject the H0 hypothesis</b></p>"
   ]
  },
  {
   "cell_type": "markdown",
   "id": "bf26106b",
   "metadata": {},
   "source": [
    "<h3>\n",
    "    Since the use of the T-Test requires that the data of both groups be normal,\n",
    "we will use non-parametric Wilcoxon Sign-Ranked Test\n",
    "</h3>"
   ]
  },
  {
   "cell_type": "code",
   "execution_count": 11,
   "id": "f0f3b76f",
   "metadata": {
    "scrolled": true
   },
   "outputs": [
    {
     "data": {
      "text/plain": [
       "WilcoxonResult(statistic=2234.5, pvalue=0.0014107333565442858)"
      ]
     },
     "execution_count": 11,
     "metadata": {},
     "output_type": "execute_result"
    }
   ],
   "source": [
    "stats.wilcoxon(df['bp_before'], df['bp_after'])"
   ]
  },
  {
   "cell_type": "markdown",
   "id": "8153769c",
   "metadata": {},
   "source": [
    "\n",
    "<p><b>\n",
    "Since the pvalue < 0.05, then we reject the H0 hypothesis and conclude that there is a difference between the mean blood pressure in the test and control group.\n",
    "</b></p>"
   ]
  },
  {
   "cell_type": "code",
   "execution_count": 12,
   "id": "1ecd4b5b",
   "metadata": {
    "scrolled": false
   },
   "outputs": [
    {
     "data": {
      "image/png": "[encoded data removed]",
      "text/plain": [
       "<Figure size 1080x504 with 1 Axes>"
      ]
     },
     "metadata": {
      "needs_background": "light"
     },
     "output_type": "display_data"
    }
   ],
   "source": [
    "plt.figure(figsize=(15,7))\n",
    "ax = sns.boxplot(data=df[[\"bp_before\", \"bp_after\"]])"
   ]
  },
  {
   "cell_type": "code",
   "execution_count": 13,
   "id": "f0d91aba",
   "metadata": {},
   "outputs": [
    {
     "name": "stdout",
     "output_type": "stream",
     "text": [
      "There was a 3.25 percent change in blood pressure in the test group compared to the control group.\n"
     ]
    }
   ],
   "source": [
    "pressure = np.round(((df['bp_before'].mean() - df['bp_after'].mean()) / df['bp_before'].mean())*100,2)\n",
    "print(f\"There was a {pressure} percent change in blood pressure in the test group compared to the control group.\")"
   ]
  },
  {
   "cell_type": "markdown",
   "id": "460b12e4",
   "metadata": {},
   "source": [
    "<p><b>As a result, mean blood pressure changed statistically significantly. Mean blood pressure in the test is less than in the control.</b></p>"
   ]
  }
 ],
 "metadata": {
  "kernelspec": {
   "display_name": "Python 3 (ipykernel)",
   "language": "python",
   "name": "python3"
  },
  "language_info": {
   "codemirror_mode": {
    "name": "ipython",
    "version": 3
   },
   "file_extension": ".py",
   "mimetype": "text/x-python",
   "name": "python",
   "nbconvert_exporter": "python",
   "pygments_lexer": "ipython3",
   "version": "3.10.0"
  }
 },
 "nbformat": 4,
 "nbformat_minor": 5
}
